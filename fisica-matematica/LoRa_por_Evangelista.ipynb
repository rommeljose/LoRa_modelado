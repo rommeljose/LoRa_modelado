{
 "cells": [
  {
   "cell_type": "markdown",
   "metadata": {},
   "source": [
    "# Modulación de Chirp con Desplazamiento de Frecuencia: La Modulación LoRa™\n",
    "### Lorenzo Vangelista, Miembro Senior, IEEE"
   ]
  },
  {
   "cell_type": "markdown",
   "metadata": {},
   "source": [
    "## Resumen\n",
    "\n",
    "Las Redes de Área Amplia de Baja Potencia (LPWAN) están emergiendo como un nuevo paradigma, especialmente en el campo de la conectividad para el Internet de las Cosas (IoT). LoRa™ es una de estas LPWAN y está ganando bastante tracción comercial. La modulación subyacente en LoRa está patentada y nunca ha sido descrita teóricamente. El objetivo de este artículo es proporcionar la primera descripción rigurosa del procesamiento de señales matemáticas de los procesos de modulación y demodulación de LoRa. También ofrecemos una derivación teórica del receptor óptimo que implica un proceso de demodulación de baja complejidad, recurriendo a la Transformada Rápida de Fourier. Luego comparamos el rendimiento de la modulación LoRa con la modulación FSK, tanto en un canal de Ruido Blanco Gaussiano Aditivo (AWGN) como en un canal selectivo en frecuencia, mostrando la superioridad de la modulación LoRa en este último. Los resultados de este documento permitirán una evaluación más rigurosa de las redes basadas en LoRa de lo que se ha hecho hasta ahora."
   ]
  },
  {
   "cell_type": "markdown",
   "metadata": {},
   "source": [
    "## Introducción\n",
    "\n",
    "Las Redes de Área Amplia de Baja Potencia (LPWAN) están emergiendo como un nuevo paradigma, especialmente en el campo de la conectividad de Internet de las Cosas (IoT) [1]. LoRa es una de estas LPWAN [3] y está ganando mucha tracción comercial. Estrictamente hablando, LoRa es la capa física del sistema LoRaWAN, cuya especificación es mantenida por la Alianza LoRa. La modulación de LoRa está patentada y nunca ha sido descrita teóricamente. La patente [4] no proporciona detalles en términos de ecuaciones y procesamiento de señales. El documento [5] ofrece una descripción de alto nivel de la modulación LoRa, proporcionando algunas ecuaciones básicas y confiando en la intuición del lector para el proceso de decodificación. Los documentos [6] y [7] se adentran más en la descripción de la señal, la modulación y la demodulación, pero aún carecen de una definición matemática y teórica basada en la teoría de señales. Por ejemplo, en [7] se afirma que \"para un factor de dispersión S, log2(S) bits definen f0\", es decir, el desplazamiento de frecuencia inicial, pero no se explica cómo se hace esto."
   ]
  },
  {
   "cell_type": "markdown",
   "metadata": {},
   "source": [
    "## Modulación de Chirp con Desplazamiento de Frecuencia (FSCM)\n",
    "\n",
    "Supongamos que el ancho de banda del canal que utilizamos para la transmisión es $B$, por lo que transmitimos una muestra cada $T = \\frac{1}{B}$. Un símbolo $s(nT_s)$ se envía a la entrada del modulador cada $T_s = 2^{SF} \\cdot T$. El símbolo $s(nT_s)$ es un número real formado usando un vector $w(nT_s)$ de $SF$ dígitos binarios, donde $SF$ es un parámetro entero llamado, en el contexto de LoRa, Factor de Dispersión (Spreading Factor), que suele tomar valores en \\{7, 8, 9, 10, 11, 12\\}, es decir,"
   ]
  },
  {
   "cell_type": "markdown",
   "metadata": {},
   "source": [
    "$$ s(nT_s) = \\sum_{h=0}^{SF-1} w(nT_s)_h \\cdot 2^h. $$\n",
    "\n",
    "Podemos ver que $s(nT_s)$ toma valores en \\{0, 1, 2, \\dots, 2^{SF}-1\\}.\n",
    "\n",
    "La forma de onda transmitida, de duración $T_s$, para un determinado $s(nT_s)$ es:\n",
    "\n",
    "$$ c(nT_s + kT) = \\frac{1}{\\sqrt{2^{SF}}} e^{j2\\pi \\left[\\left(s(nT_s) + k \\mod 2^{SF}\\right) \\frac{kT}{2^{SF}}\\right]} $$\n",
    "\n",
    "para $k = 0, \\dots, 2^{SF}-1$.\n",
    "\n",
    "Podemos ver que la señal modulada es una forma de onda chirp, ya que la frecuencia aumenta linealmente con $k$, que es el índice de tiempo; notamos que cada forma de onda difiere de una forma de onda base cuya frecuencia inicial es igual a 0 por un desplazamiento de frecuencia $s(nT_s)$. Es por eso que lo llamamos Modulación de Chirp con Desplazamiento de Frecuencia (FSCM)."
   ]
  },
  {
   "cell_type": "markdown",
   "metadata": {},
   "source": [
    "Toda la modulación FSCM en este artículo permanecerá en el dominio discreto $Z(T) = \\{\\dots, -3T, -2T, -T, 0, T, 2T, 3T, \\dots\\}$, es decir, el intervalo fundamental para el análisis de frecuencia es $[0, B = \\frac{1}{T}]$. De hecho, cualquier señal en el dominio discreto $Z(T)$ tiene una representación de frecuencia periódica con periodo $B = \\frac{1}{T}$."
   ]
  },
  {
   "cell_type": "markdown",
   "metadata": {},
   "source": [
    "### Ortogonalidad de las Formas de Onda FSCM\n",
    "\n",
    "Habiendo establecido las posibles formas de onda de la FSCM, investigamos su ortogonalidad. Para ello, necesitamos comprobar que:\n",
    "\n",
    "$$ \\left\\langle c(nT_s + kT) | s(nT_s)=i, c(nT_s + kT) | s(nT_s)=q \\right\\rangle = 0, \\quad i \\neq q $$\n",
    "\n",
    "donde $i, q \\in \\{0, \\dots, 2^{SF}-1\\}$.\n",
    "\n",
    "Evaluamos la siguiente expresión:\n",
    "\n",
    "$$ \\sum_{k=0}^{2^{SF}-1} c(nT_s + kT) | s(nT_s)=i \\cdot c^*(nT_s + kT) | s(nT_s)=q $$\n",
    "\n",
    "Usando la representación compleja de las formas de onda chirp, expandimos la expresión para obtener:"
   ]
  },
  {
   "cell_type": "markdown",
   "metadata": {},
   "source": [
    "$$ \\frac{1}{2^{SF}} \\sum_{k=0}^{2^{SF}-1} e^{j2\\pi \\left[\\left(i + k \\mod 2^{SF}\\right) \\frac{k}{2^{SF}} - \\left(q + k \\mod 2^{SF}\\right) \\frac{k}{2^{SF}}\\right]} $$\n",
    "\n",
    "Podemos descomponer la suma en tres partes, eliminando el operador $\\mod$ en cada una de ellas, y tras simplificar obtenemos la condición para la ortogonalidad de las formas de onda."
   ]
  },
  {
   "cell_type": "markdown",
   "metadata": {},
   "source": [
    "## Detección Óptima de Señales FSCM en Canales AWGN\n",
    "\n",
    "Suponiendo señales de energía igual, sincronización perfecta de tiempo y frecuencia, y una fuente que emite símbolos con igual probabilidad, el receptor óptimo para señales FSCM en un canal AWGN se puede derivar fácilmente.\n",
    "\n",
    "La señal recibida es:\n",
    "\n",
    "$$ r(nT_s + kT) = c(nT_s + kT) + w(nT_s + kT) $$"
   ]
  },
  {
   "cell_type": "markdown",
   "metadata": {},
   "source": [
    "donde $w(nT_s + kT)$ es ruido blanco gaussiano de media cero, con $\\sigma^2_w(nT_s + kT) = \\sigma^2_w$. El demodulador óptimo consiste en proyectar $r(nT_s + kT)$ sobre las diferentes señales $c(nT_s + kT)$, y elegir el símbolo que maximice el módulo cuadrado de la proyección como la mejor estimación del símbolo transmitido $s(nT_s)$."
   ]
  },
  {
   "cell_type": "markdown",
   "metadata": {},
   "source": [
    "### Implementación Computacionalmente Eficiente\n",
    "\n",
    "Para calcular la proyección, realizamos el siguiente cálculo:\n",
    "\n",
    "$$ \\sum_{k=0}^{2^{SF}-1} r(nT_s + kT) \\cdot e^{-j2\\pi \\left(\\frac{k^2}{2^{SF}} + \\frac{pk}{2^{SF}}\\right)} $$\n",
    "\n",
    "Esto implica dos pasos:\n",
    "\n",
    "1. Multiplicar la señal recibida $r(nT_s + kT)$ por un \"down-chirp\" $e^{-j2\\pi \\frac{k^2}{2^{SF}}}$.\n",
    "2. Tomar la Transformada Discreta de Fourier (DFT) del vector resultante y seleccionar el índice correspondiente al símbolo transmitido."
   ]
  },
  {
   "cell_type": "markdown",
   "metadata": {},
   "source": [
    "## Análisis de Desempeño a Nivel de Enlace\n",
    "\n",
    "Realizamos simulaciones de computadora comparando la modulación FSCM de cardinalidad $2^7$ contra la modulación FSK con la misma cardinalidad. Consideramos un canal AWGN plano y un canal multi-camino selectivo en frecuencia con respuesta al impulso $h(nT) = \\sqrt{0.8} \\delta(nT) + \\sqrt{0.2} \\delta(nT - T)$."
   ]
  },
  {
   "cell_type": "markdown",
   "metadata": {},
   "source": [
    "Los resultados muestran que, para el canal AWGN, la modulación FCSM y la modulación FSK tienen un rendimiento similar. Sin embargo, en un canal selectivo en frecuencia, la modulación FCSM supera a la FSK, ya que la FCSM promedia el ruido a lo largo de todo el rango de frecuencias."
   ]
  },
  {
   "cell_type": "markdown",
   "metadata": {},
   "source": [
    "## Conclusión\n",
    "\n",
    "En este artículo hemos proporcionado la primera descripción matemática rigurosa de los procesos de modulación y demodulación de LoRa (FCSM), basada en la teoría de señales. Derivamos el demodulador óptimo y su versión eficiente. Finalmente, realizamos una comparación de rendimiento entre la modulación LoRa y la modulación FSK, mostrando que LoRa es superior en canales selectivos en frecuencia."
   ]
  },
  {
   "cell_type": "markdown",
   "metadata": {},
   "source": [
    "## Referencias\n",
    "1. H. Wang y A. O. Fapojuwo, \"A Survey of Enabling Technologies of Low Power and Long Range Machine-to-Machine Communications,\" IEEE Communications Surveys & Tutorials, vol. pre-publication, no. 99, pp. 1-1, 2017.\n",
    "2. M. Centenaro, L. Vangelista, A. Zanella and M. Zorzi, \"Long-range communications in unlicensed bands: the rising stars in the IoT and smart city scenarios,\" IEEE Wireless Communications, vol. 23, no. 5, pp. 60-67, 2016.\n",
    "3. J. P. Bardyn, T. Melly, O. Seller and N. Sornin, \"IoT: The era of LPWAN is starting now,\" in ESSCIRC Conference 2016: 42nd European Solid-State Circuits Conference, Lausanne, 2016, pp. 25-30.\n",
    "4. LoRa Alliance. Disponible en: https://www.lora-alliance.org/\n",
    "5. F. Sforza, \"Communication system,\" Patente US 8406275 B2, Publicación: 26 de marzo de 2013.\n",
    "6. C. Goursaud and J. - M. Gorce, \"Dedicated networks for IoT : PHY / MAC state of the art and challenges,\" EAI Endorsed Transactions on Internet of Things, 2015.\n",
    "7. B. Reynders, W. Meert and S. Pollin, \"Range and coexistence analysis of long range unlicensed communication,\" 23rd International Conference on Telecommunications (ICT), Thessaloniki, 2016, pp. 1-6.\n",
    "8. B. Reynders and S. Pollin, \"Chirp spread spectrum as a modulation technique for long range communication,\" in Symposium on Communications and Vehicular Technologies (SCVT), Mons, Belgium, 2016, pp. 1-5.\n",
    "9. M. R. Winkler, \"Chirp signals for communications,\" in WESCON Convention Record Paper 14.2, 1962.\n",
    "10. C. E. Cook, \"Linear FM signal formats for beacon and communication systems,\" IEEE Transactions on Aerospace and Electronic Systems, vol. 10, pp. 471-478, July 1974.\n",
    "11. C. Gupta, T. Mumtaz, M. Zaman and A. Papandreou-Suppappola, \"Wideband chirp modulation for FH-CDMA wireless systems: coherent and non-coherent receiver structures,\" in IEEE International Conference on Communications, 2003, pp. 2455-2459.\n"
   ]
  }
 ],
 "metadata": {
  "kernelspec": {
   "display_name": "Python 3 (ipykernel)",
   "language": "python",
   "name": "python3"
  },
  "language_info": {
   "codemirror_mode": {
    "name": "ipython",
    "version": 3
   },
   "file_extension": ".py",
   "mimetype": "text/x-python",
   "name": "python",
   "nbconvert_exporter": "python",
   "pygments_lexer": "ipython3",
   "version": "3.10.12"
  }
 },
 "nbformat": 4,
 "nbformat_minor": 2
}
