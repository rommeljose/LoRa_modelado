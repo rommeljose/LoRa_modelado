{
 "cells": [
  {
   "cell_type": "markdown",
   "metadata": {},
   "source": [
    "# Detección Óptima de Señales FSCM en Canales AWGN\n",
    "\n",
    "La **detección óptima** de señales FSCM (Modulación de Chirp con Desplazamiento de Frecuencia) en un canal con ruido blanco gaussiano aditivo (AWGN) sigue los siguientes principios."
   ]
  },
  {
   "cell_type": "markdown",
   "metadata": {},
   "source": [
    "### 1. Modelo de canal AWGN\n",
    "\n",
    "La señal recibida en este canal es la suma de la señal transmitida más el ruido blanco gaussiano aditivo, y se puede expresar de la siguiente manera:\n",
    "\n",
    "$$\n",
    "r(nT_s + kT) = c(nT_s + kT) + w(nT_s + kT)\n",
    "$$\n",
    "\n",
    "- $r(nT_s + kT)$: Señal recibida.\n",
    "- $c(nT_s + kT)$: Señal transmitida.\n",
    "- $w(nT_s + kT)$: Ruido blanco gaussiano aditivo, de media cero y varianza $\\sigma^2_w$.\n",
    "\n",
    "Este modelo es útil para analizar cómo el ruido afecta la señal y qué tan robusta es la modulación frente a este ruido."
   ]
  },
  {
   "cell_type": "markdown",
   "metadata": {},
   "source": [
    "### 2. Proyección de la señal recibida sobre las señales transmitidas\n",
    "\n",
    "La **detección óptima** proyecta la señal recibida $r(nT_s + kT)$ sobre cada una de las posibles señales transmitidas $c(nT_s + kT)$ correspondientes a los diferentes símbolos $s(nT_s)$.\n",
    "\n",
    "El objetivo es maximizar el módulo cuadrado de la proyección, de modo que podamos seleccionar la mejor estimación del símbolo transmitido."
   ]
  },
  {
   "cell_type": "markdown",
   "metadata": {},
   "source": [
    "### 3. Ruido Blanco Gaussiano Aditivo (AWGN)\n",
    "\n",
    "El término $w(nT_s + kT)$ es el **ruido blanco gaussiano aditivo**, que tiene las siguientes características:\n",
    "- Media cero: $\\mathbb{E}[w(nT_s + kT)] = 0$.\n",
    "- Varianza $\\sigma^2_w$, que es constante en todo el canal.\n",
    "\n",
    "Este tipo de ruido es común en modelos de comunicación porque introduce perturbaciones en la señal de manera aleatoria y homogénea en el tiempo."
   ]
  },
  {
   "cell_type": "markdown",
   "metadata": {},
   "source": [
    "# Implementación Computacionalmente Eficiente\n",
    "\n",
    "La detección puede implementarse de manera computacionalmente eficiente en dos pasos:"
   ]
  },
  {
   "cell_type": "markdown",
   "metadata": {},
   "source": [
    "### Paso 1: Multiplicación por un \"down-chirp\"\n",
    "\n",
    "Multiplicamos la señal recibida $r(nT_s + kT)$ por un \"down-chirp\", lo que transforma la señal en una forma más sencilla de procesar.\n",
    "\n",
    "$$\n",
    "r(nT_s + kT) \\cdot e^{-j2\\pi \\frac{k^2}{2^{SF}}}\n",
    "$$\n",
    "\n",
    "- El **down-chirp** es una señal con una frecuencia que decrece linealmente con el tiempo. Nos permite compensar la modulación."
   ]
  },
  {
   "cell_type": "markdown",
   "metadata": {},
   "source": [
    "### Paso 2: Transformada Discreta de Fourier (DFT)\n",
    "\n",
    "Aplicamos la **Transformada Discreta de Fourier (DFT)** al resultado de la multiplicación anterior, para obtener las frecuencias correspondientes a los símbolos transmitidos.\n",
    "\n",
    "$$\n",
    "\\sum_{k=0}^{2^{SF}-1} r(nT_s + kT) \\cdot e^{-j2\\pi \\left(\\frac{k^2}{2^{SF}} + \\frac{pk}{2^{SF}}\\right)}\n",
    "$$\n",
    "\n",
    "La DFT transforma la señal al dominio de la frecuencia, permitiendo identificar el símbolo transmitido mediante la selección del índice que maximice el módulo cuadrado.\n",
    "\n",
    "- El término 𝑝 en la expresión, es el símbolo transmitido o el valor del símbolo que estamos estimando o decodificando; es el símbolo que estamos tratando de recuperar a partir de la señal recibida. En la modulación LoRa (FSCM), los símbolos 𝑝 toman valores en el conjunto ${\\{0,1,2,…,2^{SF}−1\\}}$, es decir, el rango de posibles símbolos está determinado por el Spreading Factor (SF), que controla el número de posibles símbolos que se pueden transmitir."
   ]
  },
  {
   "cell_type": "markdown",
   "metadata": {},
   "source": [
    "### Resumen\n",
    "\n",
    "1. La señal recibida es la suma de la señal transmitida más el ruido blanco gaussiano aditivo (AWGN).\n",
    "2. Se proyecta la señal recibida sobre cada una de las señales posibles y se selecciona el símbolo que maximice el módulo cuadrado de la proyección.\n",
    "3. Para implementar esto de manera eficiente, multiplicamos por un down-chirp y aplicamos la DFT para identificar las frecuencias y seleccionar el símbolo transmitido."
   ]
  },
  {
   "cell_type": "markdown",
   "metadata": {},
   "source": [
    "### Paso 2: Transformada Discreta de Fourier (DFT)\n",
    "\n",
    "Aplicamos la **Transformada Discreta de Fourier (DFT)** al resultado de la multiplicación anterior, para obtener las frecuencias correspondientes a los símbolos transmitidos.\n",
    "\n",
    "La DFT se define como:\n",
    "\n",
    "$$\n",
    "X[k] = \\sum_{n=0}^{N-1} x[n] \\cdot e^{-j2\\pi \\frac{kn}{N}}\n",
    "$$\n",
    "\n",
    "Donde:\n",
    "- \\( X[k] \\) es el espectro de frecuencia.\n",
    "- \\( x[n] \\) es la señal en el dominio del tiempo.\n",
    "- \\( N \\) es el número total de muestras.\n",
    "- \\( k \\) es el índice de la frecuencia.\n",
    "\n",
    "#### Ejemplo\n",
    "\n",
    "Supongamos que tenemos una señal \\( r[n] \\) con 8 muestras:\n",
    "\n",
    "$$\n",
    "r[n] = [1, 2, 3, 4, 5, 6, 7, 8]\n",
    "$$\n",
    "\n",
    "Ahora aplicamos la DFT para calcular \\( X[k] \\) para \\( k = 0, 1, 2, \\ldots, 7 \\) (donde \\( N = 8 \\)):\n",
    "\n",
    "1. Para \\( k = 0 \\):\n",
    "   $$\n",
    "   X[0] = \\sum_{n=0}^{7} r[n] \\cdot e^{-j2\\pi \\frac{0 \\cdot n}{8}} = \\sum_{n=0}^{7} r[n]\n",
    "   $$\n",
    "\n",
    "2. Para \\( k = 1 \\):\n",
    "   $$\n",
    "   X[1] = \\sum_{n=0}^{7} r[n] \\cdot e^{-j2\\pi \\frac{1 \\cdot n}{8}}\n",
    "   $$\n",
    "\n",
    "3. Repetimos este cálculo para \\( k = 2, 3, \\ldots, 7 \\).\n",
    "\n",
    "#### Interpretación del Resultado\n",
    "\n",
    "El resultado \\( X[k] \\) te dará las amplitudes y fases de las frecuencias presentes en la señal original. Al observar el módulo cuadrado \\( |X[k]|^2 \\), puedes identificar cuál es el símbolo que tiene la mayor potencia, indicando el símbolo transmitido.\n",
    "\n",
    "### Resumen\n",
    "\n",
    "- La DFT permite transformar una señal en el tiempo a un espectro de frecuencias.\n",
    "- Se usa en sistemas de comunicación para identificar símbolos transmitidos.\n",
    "- El índice que maximiza \\( |X[k]|^2 \\) corresponde al símbolo detectado.\n"
   ]
  },
  {
   "cell_type": "code",
   "execution_count": null,
   "metadata": {},
   "outputs": [],
   "source": []
  }
 ],
 "metadata": {
  "kernelspec": {
   "display_name": "Python 3 (ipykernel)",
   "language": "python",
   "name": "python3"
  },
  "language_info": {
   "codemirror_mode": {
    "name": "ipython",
    "version": 3
   },
   "file_extension": ".py",
   "mimetype": "text/x-python",
   "name": "python",
   "nbconvert_exporter": "python",
   "pygments_lexer": "ipython3",
   "version": "3.10.12"
  }
 },
 "nbformat": 4,
 "nbformat_minor": 2
}
