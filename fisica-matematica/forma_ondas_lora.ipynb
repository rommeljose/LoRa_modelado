{
 "cells": [
  {
   "cell_type": "markdown",
   "metadata": {},
   "source": [
    "# Explicación detallada de la forma de onda transmitida en LoRa\n",
    "\n",
    "La forma de onda transmitida, de duración $T_s$, para un determinado $s(nT_s)$ es:\n",
    "\n",
    "$$\n",
    "c(nT_s + kT) = \\frac{1}{\\sqrt{2^{SF}}} e^{j2\\pi \\left[\\left(s(nT_s) + k \\mod 2^{SF}\\right) \\frac{kT}{2^{SF}}\\right]}\n",
    "$$\n",
    "\n",
    "para $k = 0, \\dots, 2^{SF}-1$.\n",
    "\n",
    "Podemos ver que la señal modulada es una forma de onda **chirp**, ya que la frecuencia aumenta linealmente con $k$, que es el índice de tiempo. Notamos que cada forma de onda difiere de una forma de onda base cuya frecuencia inicial es igual a 0 por un desplazamiento de frecuencia $s(nT_s)$. Por esta razón, lo llamamos **Modulación de Chirp con Desplazamiento de Frecuencia** (FSCM).\n"
   ]
  },
  {
   "cell_type": "markdown",
   "metadata": {},
   "source": [
    "## Componentes de la ecuación\n",
    "\n",
    "### 1. $c(nT_s + kT)$:\n",
    "   - Esto representa la **forma de onda compleja** (una señal modulada) transmitida en el tiempo.\n",
    "   - $nT_s$ es el momento en que comienza a transmitirse el símbolo $s$, y $kT$ es el tiempo dentro del símbolo, ya que $k$ es el índice de tiempo que varía dentro del símbolo.\n",
    "\n",
    "### 2. $\\frac{1}{\\sqrt{2^{SF}}}$:\n",
    "   - Esta es una constante de **normalización** que asegura que la energía total de la señal transmitida sea unitaria.\n",
    "   - $SF$ es el **Spreading Factor** (factor de dispersión), un parámetro importante en LoRa que determina el número de chirps por símbolo. Cuanto mayor es el $SF$, mayor es la dispersión, lo que permite alcanzar mayores distancias con la transmisión.\n",
    "\n",
    "### 3. $e^{j2\\pi \\left[\\left(s(nT_s) + k \\mod 2^{SF}\\right) \\frac{kT}{2^{SF}}\\right]}$:\n",
    "   - Esta parte de la ecuación es la **fase compleja** de la señal modulada, representada en notación exponencial.\n",
    "   - $e^{j\\theta}$ es la forma en que se expresan las señales en el dominio de la frecuencia en términos de fase. Aquí $\\theta$ es el argumento del exponente que define cómo cambia la fase de la señal a lo largo del tiempo.\n",
    "\n",
    "### 4. $s(nT_s)$:\n",
    "   - Este es el **símbolo** que se transmite en el intervalo $nT_s$. El valor $s(nT_s)$ proviene del mapeo de los bits transmitidos a un número en $\\{0, 1, 2, \\dots, 2^{SF}-1\\}$.\n",
    "   - Es el \"desplazamiento de frecuencia inicial\" o el punto de partida de la señal.\n",
    "\n",
    "### 5. $k \\mod 2^{SF}$:\n",
    "   - Esta parte es **el índice de tiempo $k$** dentro del símbolo modulado. Se usa el operador módulo $\\mod 2^{SF}$ para asegurarse de que el índice se \"envuelva\" de nuevo cuando alcanza el valor máximo $2^{SF}$, ya que la modulación LoRa es periódica.\n",
    "   - Esto asegura que el índice $k$ no supere el rango permitido para un símbolo que se modula en $2^{SF}$ intervalos.\n",
    "\n",
    "### 6. $\\frac{kT}{2^{SF}}$:\n",
    "   - Este es el factor que determina la **frecuencia instantánea** de la señal. Representa la variación de la fase en función del tiempo.\n",
    "   - A medida que $k$ aumenta, este término introduce un cambio lineal en la fase, que es característico de una señal **chirp**. En un chirp, la frecuencia cambia de manera lineal con el tiempo.\n"
   ]
  },
  {
   "cell_type": "markdown",
   "metadata": {},
   "source": [
    "## Interpretación\n",
    "\n",
    "- **Chirp**: Un chirp es una señal cuya frecuencia varía de manera **lineal** con el tiempo. En este caso, la frecuencia de la señal aumenta a medida que el índice $k$ avanza dentro de un símbolo.\n",
    "- **Dispersión de la frecuencia**: En LoRa, esta dispersión permite que la señal sea robusta frente a interferencias y que se pueda recuperar incluso en condiciones de bajo SNR (relación señal a ruido).\n"
   ]
  },
  {
   "cell_type": "markdown",
   "metadata": {},
   "source": [
    "## Función del Chirp\n",
    "\n",
    "- La modulación de chirp con desplazamiento de frecuencia asegura que, dentro de cada símbolo, la frecuencia de la señal aumenta de manera **lineal** con el tiempo. El chirp cubre todo el rango de frecuencias disponibles para ese símbolo.\n",
    "- La señal $c(nT_s + kT)$ en LoRa usa un chirp donde cada **símbolo $s(nT_s)$** se modula variando la frecuencia de manera controlada por el valor de $k$.\n"
   ]
  },
  {
   "cell_type": "markdown",
   "metadata": {},
   "source": [
    "## Conclusión\n",
    "\n",
    "La ecuación describe una señal cuya **frecuencia instantánea** aumenta linealmente dentro del intervalo de tiempo $[0, T_s]$ en función de $k$, modulada por el símbolo $s(nT_s)$. Esto permite que LoRa tenga una comunicación robusta en largas distancias y bajo consumo energético, con el uso eficiente del espectro."
   ]
  },
  {
   "cell_type": "markdown",
   "metadata": {},
   "source": [
    "![Forma de Onda LoRa](forma_onda_LoRa_.png)"
   ]
  },
  {
   "cell_type": "code",
   "execution_count": null,
   "metadata": {},
   "outputs": [],
   "source": []
  }
 ],
 "metadata": {
  "kernelspec": {
   "display_name": "Python 3 (ipykernel)",
   "language": "python",
   "name": "python3"
  },
  "language_info": {
   "codemirror_mode": {
    "name": "ipython",
    "version": 3
   },
   "file_extension": ".py",
   "mimetype": "text/x-python",
   "name": "python",
   "nbconvert_exporter": "python",
   "pygments_lexer": "ipython3",
   "version": "3.10.12"
  }
 },
 "nbformat": 4,
 "nbformat_minor": 2
}
