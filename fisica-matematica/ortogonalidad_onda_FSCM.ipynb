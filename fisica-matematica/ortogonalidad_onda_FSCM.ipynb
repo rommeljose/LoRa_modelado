{
 "cells": [
  {
   "cell_type": "markdown",
   "metadata": {},
   "source": [
    "# Ortogonalidad de las Formas de Onda FSCM\n",
    "\n",
    "Habiendo establecido las posibles formas de onda de la FSCM, investigamos su ortogonalidad. Para ello, necesitamos comprobar que:\n",
    "\n",
    "$$\n",
    "\\left\\langle c(nT_s + kT) | s(nT_s)=i, c(nT_s + kT) | s(nT_s)=q \\right\\rangle = 0, \\quad i \\neq q\n",
    "$$\n",
    "\n",
    "donde $i, q \\in \\{0, \\dots, 2^{SF}-1\\}$.\n"
   ]
  },
  {
   "cell_type": "markdown",
   "metadata": {},
   "source": [
    "### ¿Qué es la ortogonalidad?\n",
    "\n",
    "En el contexto de señales, dos formas de onda son ortogonales si su **producto interno** (una especie de proyección de una señal sobre la otra) es **cero**. Esto significa que, cuando comparamos dos señales distintas $s = i$ y $s = q$, no hay interferencia entre ellas. La ortogonalidad es clave en comunicaciones porque garantiza que los símbolos diferentes se puedan distinguir entre sí de manera clara en el receptor, sin que uno interfiera con el otro.\n",
    "\n",
    "### Paso a paso:\n"
   ]
  },
  {
   "cell_type": "markdown",
   "metadata": {},
   "source": [
    "#### 1. Definición del criterio de ortogonalidad\n",
    "\n",
    "La ortogonalidad se establece con la siguiente condición:\n",
    "\n",
    "$$\n",
    "\\left\\langle c(nT_s + kT) | s(nT_s)=i, c(nT_s + kT) | s(nT_s)=q \\right\\rangle = 0, \\quad i \\neq q\n",
    "$$\n",
    "\n",
    "- $c(nT_s + kT)$ es la señal chirp que se está transmitiendo.\n",
    "- $s(nT_s) = i$ es el símbolo correspondiente a la primera señal.\n",
    "- $s(nT_s) = q$ es el símbolo correspondiente a la segunda señal.\n",
    "- **Producto interno**: $\\langle \\cdot , \\cdot \\rangle$ representa el producto interno, que es una suma sobre el producto de las señales conjugadas complejas.\n",
    "\n",
    "Cuando $i \\neq q$, queremos que el producto interno sea **cero**, lo que significa que las señales son ortogonales.\n"
   ]
  },
  {
   "cell_type": "markdown",
   "metadata": {},
   "source": [
    "#### 2. Evaluación de la expresión\n",
    "\n",
    "Para comprobar esta ortogonalidad, evaluamos la siguiente suma:\n",
    "\n",
    "$$\n",
    "\\sum_{k=0}^{2^{SF}-1} c(nT_s + kT) | s(nT_s)=i \\cdot c^*(nT_s + kT) | s(nT_s)=q\n",
    "$$\n",
    "\n",
    "Aquí:\n",
    "- $k$ es el índice de tiempo dentro del símbolo.\n",
    "- $c(nT_s + kT)$ es la señal transmitida para el símbolo $s(nT_s) = i$, y $c^*(nT_s + kT)$ es su conjugado complejo.\n",
    "- La suma es sobre todos los posibles $k$ dentro de un símbolo, lo que va desde $0$ hasta $2^{SF}-1$, el número total de intervalos en el símbolo.\n",
    "- El símbolo \"|\" se lee como \"dado que\" o \"condicionado a\". Se está usando para indicar que estamos considerando las señales condicionadas a la transmisión de los símbolos 𝑖 y 𝑞. Es decir, estamos evaluando las formas de onda generadas cuando los símbolos transmitidos son 𝑖 y 𝑞, respectivamente.\n",
    "\n",
    "Esta expresión es el producto interno de las dos señales para diferentes símbolos. Si es **cero**, entonces las dos señales son ortogonales.\n"
   ]
  },
  {
   "cell_type": "markdown",
   "metadata": {},
   "source": [
    "#### 3. Expansión usando la representación compleja\n",
    "\n",
    "Usamos la representación compleja de las señales chirp para expandir la expresión. Sabemos que las señales chirp tienen la siguiente forma en términos complejos:\n",
    "\n",
    "$$\n",
    "c(nT_s + kT) = \\frac{1}{\\sqrt{2^{SF}}} e^{j2\\pi \\left( \\left(s(nT_s) + k \\mod 2^{SF}\\right) \\frac{k}{2^{SF}} \\right)}\n",
    "$$\n",
    "\n",
    "Entonces, el producto de las dos señales conjugadas se puede escribir como:\n",
    "\n",
    "$$\n",
    "\\frac{1}{2^{SF}} \\sum_{k=0}^{2^{SF}-1} e^{j2\\pi \\left[\\left(i + k \\mod 2^{SF}\\right) \\frac{k}{2^{SF}} - \\left(q + k \\mod 2^{SF}\\right) \\frac{k}{2^{SF}}\\right]}\n",
    "$$\n"
   ]
  },
  {
   "cell_type": "markdown",
   "metadata": {},
   "source": [
    "#### 4. Descomposición y simplificación\n",
    "\n",
    "- Aquí estamos restando las dos fases de las señales correspondientes a los símbolos $i$ y $q$.\n",
    "- Después de simplificar la expresión, eliminamos el operador $\\mod$ porque el rango de $k$ ya está dentro de $2^{SF}$.\n"
   ]
  },
  {
   "cell_type": "markdown",
   "metadata": {},
   "source": [
    "#### 5. Condición de ortogonalidad\n",
    "\n",
    "Finalmente, la condición para que las formas de onda sean ortogonales es que esta suma dé **cero** cuando $i \\neq q$. Esto asegura que las señales correspondientes a símbolos diferentes no interfieran entre sí y puedan ser distinguidas claramente por el receptor.\n"
   ]
  },
  {
   "cell_type": "markdown",
   "metadata": {},
   "source": [
    "### Resumen\n",
    "\n",
    "La ortogonalidad en la modulación de LoRa significa que las señales chirp asociadas a diferentes símbolos no se mezclan ni interfieren entre sí. Esta propiedad se garantiza mediante la relación matemática expuesta arriba, y es clave para que LoRa pueda transmitir datos de manera eficiente, incluso en entornos con mucho ruido o interferencias.\n"
   ]
  }
 ],
 "metadata": {
  "kernelspec": {
   "display_name": "Python 3 (ipykernel)",
   "language": "python",
   "name": "python3"
  },
  "language_info": {
   "codemirror_mode": {
    "name": "ipython",
    "version": 3
   },
   "file_extension": ".py",
   "mimetype": "text/x-python",
   "name": "python",
   "nbconvert_exporter": "python",
   "pygments_lexer": "ipython3",
   "version": "3.10.12"
  }
 },
 "nbformat": 4,
 "nbformat_minor": 2
}
